{
 "cells": [
  {
   "cell_type": "code",
   "execution_count": 275,
   "id": "10ace0d2",
   "metadata": {},
   "outputs": [],
   "source": [
    "import pandas as pd\n",
    "import matplotlib.pyplot as plt\n",
    "import seaborn as sns\n",
    "from sklearn.model_selection import train_test_split\n",
    "from sklearn.linear_model import LinearRegression\n",
    "from sklearn.linear_model import Lasso\n",
    "from sklearn import metrics\n",
    "import math\n",
    "import plotly_express as px\n",
    "import numpy as np\n",
    "import time\n"
   ]
  },
  {
   "cell_type": "code",
   "execution_count": 179,
   "id": "dbfbe6ca",
   "metadata": {},
   "outputs": [],
   "source": [
    "df = pd.read_csv(r\"C:\\amazon_ml\\dataset\\train.csv\")"
   ]
  },
  {
   "cell_type": "code",
   "execution_count": 180,
   "id": "adebeba1",
   "metadata": {},
   "outputs": [],
   "source": [
    "df  = df.sort_values('PRODUCT_TYPE_ID')"
   ]
  },
  {
   "cell_type": "code",
   "execution_count": 181,
   "id": "92c3c453",
   "metadata": {},
   "outputs": [],
   "source": [
    "res =df[['PRODUCT_TYPE_ID', 'PRODUCT_LENGTH']]"
   ]
  },
  {
   "cell_type": "code",
   "execution_count": 182,
   "id": "e5808dbd",
   "metadata": {},
   "outputs": [],
   "source": [
    "res = res.astype(int)\n"
   ]
  },
  {
   "cell_type": "code",
   "execution_count": 183,
   "id": "5310cae4",
   "metadata": {},
   "outputs": [],
   "source": [
    "df_slice = res[:1000]"
   ]
  },
  {
   "cell_type": "code",
   "execution_count": 184,
   "id": "445bddf6",
   "metadata": {},
   "outputs": [],
   "source": [
    "# sns.boxplot(df_slice.PRODUCT_LENGTH)"
   ]
  },
  {
   "cell_type": "code",
   "execution_count": 185,
   "id": "6959824c",
   "metadata": {},
   "outputs": [],
   "source": [
    "# checking negative values \n",
    "# (res < 0).any().any()"
   ]
  },
  {
   "cell_type": "code",
   "execution_count": 238,
   "id": "fa70ee0f",
   "metadata": {},
   "outputs": [],
   "source": [
    "def outlier_limit(li):\n",
    "    list  = li.sort()\n",
    "#     print('sorted: ', type(li), li)\n",
    "    l = 1000\n",
    "    iq = int( (0.25)*(l) )\n",
    "    Q = li[iq]\n",
    "    iqthree = int( (0.75)*(l) )\n",
    "    Qthree = li[iqthree]\n",
    "    IQR = Qthree - Q\n",
    "    #Lower boundary = Q1 - 1.5 IQR = 22 - (1.5)(13) = 2.5\n",
    "    #[lower_limit, upper_limit]\n",
    "    return [ (Q - (1.5)*IQR), (Qthree + (1.5)*IQR) ]\n",
    "\n",
    "def flatten(l):\n",
    "    return [item for sublist in l for item in sublist]"
   ]
  },
  {
   "cell_type": "code",
   "execution_count": 239,
   "id": "e0f7670f",
   "metadata": {},
   "outputs": [],
   "source": [
    "pa = df_slice['PRODUCT_LENGTH'].values.tolist()\n"
   ]
  },
  {
   "cell_type": "code",
   "execution_count": 240,
   "id": "9ee018d2",
   "metadata": {},
   "outputs": [],
   "source": [
    "# upper limit\n",
    "v = outlier_limit(pa)\n"
   ]
  },
  {
   "cell_type": "code",
   "execution_count": 241,
   "id": "17ce89f7",
   "metadata": {},
   "outputs": [],
   "source": [
    "# fres = df_slice[df_slice['PRODUCT_LENGTH']<= v[1]]\n",
    "fres =  df_slice[df_slice['PRODUCT_LENGTH'].between(v[0], v[1])]"
   ]
  },
  {
   "cell_type": "code",
   "execution_count": 242,
   "id": "c49021c6",
   "metadata": {},
   "outputs": [],
   "source": [
    "# we need to remove outliers which are more than upper limit. \n",
    "#we don't need to remove outiers as they are not negative."
   ]
  },
  {
   "cell_type": "code",
   "execution_count": 243,
   "id": "9be8af71",
   "metadata": {},
   "outputs": [
    {
     "data": {
      "text/html": [
       "<div>\n",
       "<style scoped>\n",
       "    .dataframe tbody tr th:only-of-type {\n",
       "        vertical-align: middle;\n",
       "    }\n",
       "\n",
       "    .dataframe tbody tr th {\n",
       "        vertical-align: top;\n",
       "    }\n",
       "\n",
       "    .dataframe thead th {\n",
       "        text-align: right;\n",
       "    }\n",
       "</style>\n",
       "<table border=\"1\" class=\"dataframe\">\n",
       "  <thead>\n",
       "    <tr style=\"text-align: right;\">\n",
       "      <th></th>\n",
       "      <th>PRODUCT_TYPE_ID</th>\n",
       "      <th>PRODUCT_LENGTH</th>\n",
       "    </tr>\n",
       "  </thead>\n",
       "  <tbody>\n",
       "    <tr>\n",
       "      <th>414249</th>\n",
       "      <td>0</td>\n",
       "      <td>433</td>\n",
       "    </tr>\n",
       "    <tr>\n",
       "      <th>1970362</th>\n",
       "      <td>0</td>\n",
       "      <td>1350</td>\n",
       "    </tr>\n",
       "    <tr>\n",
       "      <th>927226</th>\n",
       "      <td>0</td>\n",
       "      <td>500</td>\n",
       "    </tr>\n",
       "    <tr>\n",
       "      <th>1587085</th>\n",
       "      <td>0</td>\n",
       "      <td>637</td>\n",
       "    </tr>\n",
       "    <tr>\n",
       "      <th>927231</th>\n",
       "      <td>0</td>\n",
       "      <td>669</td>\n",
       "    </tr>\n",
       "    <tr>\n",
       "      <th>...</th>\n",
       "      <td>...</td>\n",
       "      <td>...</td>\n",
       "    </tr>\n",
       "    <tr>\n",
       "      <th>198201</th>\n",
       "      <td>0</td>\n",
       "      <td>850</td>\n",
       "    </tr>\n",
       "    <tr>\n",
       "      <th>530282</th>\n",
       "      <td>0</td>\n",
       "      <td>393</td>\n",
       "    </tr>\n",
       "    <tr>\n",
       "      <th>929127</th>\n",
       "      <td>0</td>\n",
       "      <td>468</td>\n",
       "    </tr>\n",
       "    <tr>\n",
       "      <th>1233032</th>\n",
       "      <td>0</td>\n",
       "      <td>590</td>\n",
       "    </tr>\n",
       "    <tr>\n",
       "      <th>198205</th>\n",
       "      <td>0</td>\n",
       "      <td>750</td>\n",
       "    </tr>\n",
       "  </tbody>\n",
       "</table>\n",
       "<p>939 rows × 2 columns</p>\n",
       "</div>"
      ],
      "text/plain": [
       "         PRODUCT_TYPE_ID  PRODUCT_LENGTH\n",
       "414249                 0             433\n",
       "1970362                0            1350\n",
       "927226                 0             500\n",
       "1587085                0             637\n",
       "927231                 0             669\n",
       "...                  ...             ...\n",
       "198201                 0             850\n",
       "530282                 0             393\n",
       "929127                 0             468\n",
       "1233032                0             590\n",
       "198205                 0             750\n",
       "\n",
       "[939 rows x 2 columns]"
      ]
     },
     "execution_count": 243,
     "metadata": {},
     "output_type": "execute_result"
    }
   ],
   "source": [
    "fres"
   ]
  },
  {
   "cell_type": "code",
   "execution_count": 244,
   "id": "ed86c7a9",
   "metadata": {},
   "outputs": [],
   "source": [
    "cat_df = df[['PRODUCT_TYPE_ID']]\n"
   ]
  },
  {
   "cell_type": "code",
   "execution_count": 245,
   "id": "4a4fd690",
   "metadata": {},
   "outputs": [],
   "source": [
    "cat_df =  cat_df.drop_duplicates(subset=['PRODUCT_TYPE_ID'])"
   ]
  },
  {
   "cell_type": "code",
   "execution_count": 246,
   "id": "67b84a82",
   "metadata": {},
   "outputs": [
    {
     "data": {
      "text/plain": [
       "(12907, 1)"
      ]
     },
     "execution_count": 246,
     "metadata": {},
     "output_type": "execute_result"
    }
   ],
   "source": [
    "cat_df.shape"
   ]
  },
  {
   "cell_type": "code",
   "execution_count": 247,
   "id": "8348f296",
   "metadata": {},
   "outputs": [],
   "source": [
    "cat_range = cat_df.values.tolist()"
   ]
  },
  {
   "cell_type": "code",
   "execution_count": 248,
   "id": "999d6e61",
   "metadata": {},
   "outputs": [
    {
     "data": {
      "text/plain": [
       "12907"
      ]
     },
     "execution_count": 248,
     "metadata": {},
     "output_type": "execute_result"
    }
   ],
   "source": [
    "len(cat_range)"
   ]
  },
  {
   "cell_type": "code",
   "execution_count": 249,
   "id": "86fd7faa",
   "metadata": {},
   "outputs": [
    {
     "data": {
      "text/plain": [
       "[0]"
      ]
     },
     "execution_count": 249,
     "metadata": {},
     "output_type": "execute_result"
    }
   ],
   "source": [
    "cat_range[0]"
   ]
  },
  {
   "cell_type": "code",
   "execution_count": 267,
   "id": "ceb8ea4f",
   "metadata": {},
   "outputs": [],
   "source": [
    "#2 Removing Outliers\n",
    "def remove_deviant(dfp):\n",
    "    pa = dfp['PRODUCT_LENGTH'].values.tolist()\n",
    "    # upper limit\n",
    "#     v = outlier_limit(pa)\n",
    "    mu = np.average(pa)\n",
    "    sigma = np.std(pa)\n",
    "    LL = mu - (1.5)*sigma # Lower limit \n",
    "    UL = mu + (1.5)*sigma # Upper limit\n",
    "    fres = dfp['PRODUCT_LENGTH'].clip(LL, UL)\n",
    "#     fres =  dfp[dfp['PRODUCT_LENGTH'].between(v[0], v[1], inclusive=True)]\n",
    "    return fres"
   ]
  },
  {
   "cell_type": "code",
   "execution_count": 251,
   "id": "e986ab75",
   "metadata": {},
   "outputs": [],
   "source": [
    "# loop\n",
    "# df of p_category\n",
    "# finding upper limit and lower limit\n",
    "# removing outliers which are out of the range of outer and lower limit\n",
    "# return and storing the df into a new dataframe \n",
    "\n",
    "# preparing model"
   ]
  },
  {
   "cell_type": "code",
   "execution_count": 276,
   "id": "9ea35726",
   "metadata": {},
   "outputs": [],
   "source": [
    "def fitting(d):\n",
    "    d = d.sort_values('PRODUCT_TYPE_ID')\n",
    "    d = d[['PRODUCT_ID', 'PRODUCT_TYPE_ID', 'PRODUCT_LENGTH']]\n",
    "#     d = d.astype(int)\n",
    "    return d\n",
    "\n",
    "\n",
    "\n",
    "def training(d, cat_range):\n",
    "    for p in cat_range:\n",
    "#         print(p, type(p))\n",
    "        df_cat = d[d['PRODUCT_TYPE_ID'] == p]\n",
    "        dt = remove_deviant(df_cat)\n",
    "        dt.to_csv('fit.csv', mode='a', header=False)\n",
    "        time.sleep(2)\n",
    "        #remove deviant and return dataframe.\n",
    "        #return remove_deviant(df_cat)     \n",
    "    "
   ]
  },
  {
   "cell_type": "code",
   "execution_count": 253,
   "id": "48fef8a9",
   "metadata": {},
   "outputs": [],
   "source": [
    "new_df = pd.read_csv(r\"C:\\amazon_ml\\dataset\\train.csv\")"
   ]
  },
  {
   "cell_type": "code",
   "execution_count": 277,
   "id": "ec782dcf",
   "metadata": {},
   "outputs": [],
   "source": [
    "fit_df = fitting(new_df)\n"
   ]
  },
  {
   "cell_type": "code",
   "execution_count": 279,
   "id": "bbd4b731",
   "metadata": {},
   "outputs": [
    {
     "data": {
      "text/plain": [
       "PRODUCT_ID         0\n",
       "PRODUCT_TYPE_ID    0\n",
       "PRODUCT_LENGTH     0\n",
       "dtype: int64"
      ]
     },
     "execution_count": 279,
     "metadata": {},
     "output_type": "execute_result"
    }
   ],
   "source": [
    "fit_df.isna().sum()"
   ]
  },
  {
   "cell_type": "code",
   "execution_count": 280,
   "id": "89073f4b",
   "metadata": {},
   "outputs": [
    {
     "data": {
      "text/html": [
       "<div>\n",
       "<style scoped>\n",
       "    .dataframe tbody tr th:only-of-type {\n",
       "        vertical-align: middle;\n",
       "    }\n",
       "\n",
       "    .dataframe tbody tr th {\n",
       "        vertical-align: top;\n",
       "    }\n",
       "\n",
       "    .dataframe thead th {\n",
       "        text-align: right;\n",
       "    }\n",
       "</style>\n",
       "<table border=\"1\" class=\"dataframe\">\n",
       "  <thead>\n",
       "    <tr style=\"text-align: right;\">\n",
       "      <th></th>\n",
       "      <th>PRODUCT_ID</th>\n",
       "      <th>PRODUCT_TYPE_ID</th>\n",
       "      <th>PRODUCT_LENGTH</th>\n",
       "    </tr>\n",
       "  </thead>\n",
       "  <tbody>\n",
       "    <tr>\n",
       "      <th>414249</th>\n",
       "      <td>1420476</td>\n",
       "      <td>0</td>\n",
       "      <td>433.070866</td>\n",
       "    </tr>\n",
       "    <tr>\n",
       "      <th>1970362</th>\n",
       "      <td>1123216</td>\n",
       "      <td>0</td>\n",
       "      <td>1350.000000</td>\n",
       "    </tr>\n",
       "    <tr>\n",
       "      <th>927226</th>\n",
       "      <td>1165485</td>\n",
       "      <td>0</td>\n",
       "      <td>500.000000</td>\n",
       "    </tr>\n",
       "    <tr>\n",
       "      <th>1587085</th>\n",
       "      <td>1693001</td>\n",
       "      <td>0</td>\n",
       "      <td>637.000000</td>\n",
       "    </tr>\n",
       "    <tr>\n",
       "      <th>927231</th>\n",
       "      <td>1682427</td>\n",
       "      <td>0</td>\n",
       "      <td>669.000000</td>\n",
       "    </tr>\n",
       "    <tr>\n",
       "      <th>...</th>\n",
       "      <td>...</td>\n",
       "      <td>...</td>\n",
       "      <td>...</td>\n",
       "    </tr>\n",
       "    <tr>\n",
       "      <th>674515</th>\n",
       "      <td>1266499</td>\n",
       "      <td>13420</td>\n",
       "      <td>600.000000</td>\n",
       "    </tr>\n",
       "    <tr>\n",
       "      <th>2031521</th>\n",
       "      <td>1428163</td>\n",
       "      <td>13420</td>\n",
       "      <td>1500.000000</td>\n",
       "    </tr>\n",
       "    <tr>\n",
       "      <th>531931</th>\n",
       "      <td>1517804</td>\n",
       "      <td>13420</td>\n",
       "      <td>1550.000000</td>\n",
       "    </tr>\n",
       "    <tr>\n",
       "      <th>387179</th>\n",
       "      <td>1478641</td>\n",
       "      <td>13420</td>\n",
       "      <td>500.000000</td>\n",
       "    </tr>\n",
       "    <tr>\n",
       "      <th>1590257</th>\n",
       "      <td>1350541</td>\n",
       "      <td>13420</td>\n",
       "      <td>3594.000000</td>\n",
       "    </tr>\n",
       "  </tbody>\n",
       "</table>\n",
       "<p>2249698 rows × 3 columns</p>\n",
       "</div>"
      ],
      "text/plain": [
       "         PRODUCT_ID  PRODUCT_TYPE_ID  PRODUCT_LENGTH\n",
       "414249      1420476                0      433.070866\n",
       "1970362     1123216                0     1350.000000\n",
       "927226      1165485                0      500.000000\n",
       "1587085     1693001                0      637.000000\n",
       "927231      1682427                0      669.000000\n",
       "...             ...              ...             ...\n",
       "674515      1266499            13420      600.000000\n",
       "2031521     1428163            13420     1500.000000\n",
       "531931      1517804            13420     1550.000000\n",
       "387179      1478641            13420      500.000000\n",
       "1590257     1350541            13420     3594.000000\n",
       "\n",
       "[2249698 rows x 3 columns]"
      ]
     },
     "execution_count": 280,
     "metadata": {},
     "output_type": "execute_result"
    }
   ],
   "source": [
    "fit_df"
   ]
  },
  {
   "cell_type": "code",
   "execution_count": 281,
   "id": "f49d400b",
   "metadata": {},
   "outputs": [],
   "source": [
    "length_df = fit_df[['PRODUCT_TYPE_ID']]\n",
    "length_df =  length_df.drop_duplicates(subset=['PRODUCT_TYPE_ID'])\n",
    "type_range = length_df.values.tolist()\n",
    "type_range = flatten(type_range)"
   ]
  },
  {
   "cell_type": "code",
   "execution_count": 282,
   "id": "6ecc355a",
   "metadata": {},
   "outputs": [
    {
     "ename": "KeyboardInterrupt",
     "evalue": "",
     "output_type": "error",
     "traceback": [
      "\u001b[1;31m---------------------------------------------------------------------------\u001b[0m",
      "\u001b[1;31mKeyboardInterrupt\u001b[0m                         Traceback (most recent call last)",
      "Cell \u001b[1;32mIn[282], line 1\u001b[0m\n\u001b[1;32m----> 1\u001b[0m \u001b[43mtraining\u001b[49m\u001b[43m(\u001b[49m\u001b[43mfit_df\u001b[49m\u001b[43m,\u001b[49m\u001b[43m \u001b[49m\u001b[43mtype_range\u001b[49m\u001b[43m)\u001b[49m\n",
      "Cell \u001b[1;32mIn[276], line 15\u001b[0m, in \u001b[0;36mtraining\u001b[1;34m(d, cat_range)\u001b[0m\n\u001b[0;32m     13\u001b[0m dt \u001b[38;5;241m=\u001b[39m remove_deviant(df_cat)\n\u001b[0;32m     14\u001b[0m dt\u001b[38;5;241m.\u001b[39mto_csv(\u001b[38;5;124m'\u001b[39m\u001b[38;5;124mfit.csv\u001b[39m\u001b[38;5;124m'\u001b[39m, mode\u001b[38;5;241m=\u001b[39m\u001b[38;5;124m'\u001b[39m\u001b[38;5;124ma\u001b[39m\u001b[38;5;124m'\u001b[39m, header\u001b[38;5;241m=\u001b[39m\u001b[38;5;28;01mFalse\u001b[39;00m)\n\u001b[1;32m---> 15\u001b[0m \u001b[43mtime\u001b[49m\u001b[38;5;241;43m.\u001b[39;49m\u001b[43msleep\u001b[49m\u001b[43m(\u001b[49m\u001b[38;5;241;43m2\u001b[39;49m\u001b[43m)\u001b[49m\n",
      "\u001b[1;31mKeyboardInterrupt\u001b[0m: "
     ]
    }
   ],
   "source": [
    "training(fit_df, type_range)"
   ]
  },
  {
   "cell_type": "code",
   "execution_count": 283,
   "id": "44cb511f",
   "metadata": {},
   "outputs": [],
   "source": [
    "t_df = pd.read_csv(r\"C:\\amazon_ml\\fit.csv\")"
   ]
  },
  {
   "cell_type": "code",
   "execution_count": 284,
   "id": "3be6d140",
   "metadata": {},
   "outputs": [
    {
     "data": {
      "text/plain": [
       "PRODUCT_ID               0\n",
       "PRODUCT_TYPE_ID          0\n",
       "PRODUCT_LENGTH     2792632\n",
       "dtype: int64"
      ]
     },
     "execution_count": 284,
     "metadata": {},
     "output_type": "execute_result"
    }
   ],
   "source": [
    "t_df.isna().sum()"
   ]
  },
  {
   "cell_type": "code",
   "execution_count": 285,
   "id": "e41873b0",
   "metadata": {},
   "outputs": [
    {
     "data": {
      "text/html": [
       "<div>\n",
       "<style scoped>\n",
       "    .dataframe tbody tr th:only-of-type {\n",
       "        vertical-align: middle;\n",
       "    }\n",
       "\n",
       "    .dataframe tbody tr th {\n",
       "        vertical-align: top;\n",
       "    }\n",
       "\n",
       "    .dataframe thead th {\n",
       "        text-align: right;\n",
       "    }\n",
       "</style>\n",
       "<table border=\"1\" class=\"dataframe\">\n",
       "  <thead>\n",
       "    <tr style=\"text-align: right;\">\n",
       "      <th></th>\n",
       "      <th>PRODUCT_ID</th>\n",
       "      <th>PRODUCT_TYPE_ID</th>\n",
       "      <th>PRODUCT_LENGTH</th>\n",
       "    </tr>\n",
       "  </thead>\n",
       "  <tbody>\n",
       "    <tr>\n",
       "      <th>0</th>\n",
       "      <td>414249</td>\n",
       "      <td>433.070866</td>\n",
       "      <td>NaN</td>\n",
       "    </tr>\n",
       "    <tr>\n",
       "      <th>1</th>\n",
       "      <td>1970362</td>\n",
       "      <td>1350.000000</td>\n",
       "      <td>NaN</td>\n",
       "    </tr>\n",
       "    <tr>\n",
       "      <th>2</th>\n",
       "      <td>927226</td>\n",
       "      <td>500.000000</td>\n",
       "      <td>NaN</td>\n",
       "    </tr>\n",
       "    <tr>\n",
       "      <th>3</th>\n",
       "      <td>1587085</td>\n",
       "      <td>637.000000</td>\n",
       "      <td>NaN</td>\n",
       "    </tr>\n",
       "    <tr>\n",
       "      <th>4</th>\n",
       "      <td>927231</td>\n",
       "      <td>669.000000</td>\n",
       "      <td>NaN</td>\n",
       "    </tr>\n",
       "  </tbody>\n",
       "</table>\n",
       "</div>"
      ],
      "text/plain": [
       "   PRODUCT_ID  PRODUCT_TYPE_ID  PRODUCT_LENGTH\n",
       "0      414249       433.070866             NaN\n",
       "1     1970362      1350.000000             NaN\n",
       "2      927226       500.000000             NaN\n",
       "3     1587085       637.000000             NaN\n",
       "4      927231       669.000000             NaN"
      ]
     },
     "execution_count": 285,
     "metadata": {},
     "output_type": "execute_result"
    }
   ],
   "source": [
    "t_df.head()"
   ]
  },
  {
   "cell_type": "code",
   "execution_count": 286,
   "id": "9630b352",
   "metadata": {},
   "outputs": [
    {
     "data": {
      "text/html": [
       "<div>\n",
       "<style scoped>\n",
       "    .dataframe tbody tr th:only-of-type {\n",
       "        vertical-align: middle;\n",
       "    }\n",
       "\n",
       "    .dataframe tbody tr th {\n",
       "        vertical-align: top;\n",
       "    }\n",
       "\n",
       "    .dataframe thead th {\n",
       "        text-align: right;\n",
       "    }\n",
       "</style>\n",
       "<table border=\"1\" class=\"dataframe\">\n",
       "  <thead>\n",
       "    <tr style=\"text-align: right;\">\n",
       "      <th></th>\n",
       "      <th>PRODUCT_ID</th>\n",
       "      <th>PRODUCT_TYPE_ID</th>\n",
       "      <th>PRODUCT_LENGTH</th>\n",
       "    </tr>\n",
       "  </thead>\n",
       "  <tbody>\n",
       "    <tr>\n",
       "      <th>8900</th>\n",
       "      <td>1082630</td>\n",
       "      <td>500.000000</td>\n",
       "      <td>NaN</td>\n",
       "    </tr>\n",
       "    <tr>\n",
       "      <th>8901</th>\n",
       "      <td>1264861</td>\n",
       "      <td>196.850000</td>\n",
       "      <td>NaN</td>\n",
       "    </tr>\n",
       "    <tr>\n",
       "      <th>8902</th>\n",
       "      <td>336631</td>\n",
       "      <td>900.000000</td>\n",
       "      <td>NaN</td>\n",
       "    </tr>\n",
       "    <tr>\n",
       "      <th>8903</th>\n",
       "      <td>1264858</td>\n",
       "      <td>70.000000</td>\n",
       "      <td>NaN</td>\n",
       "    </tr>\n",
       "    <tr>\n",
       "      <th>8904</th>\n",
       "      <td>1602924</td>\n",
       "      <td>3000.000000</td>\n",
       "      <td>NaN</td>\n",
       "    </tr>\n",
       "    <tr>\n",
       "      <th>...</th>\n",
       "      <td>...</td>\n",
       "      <td>...</td>\n",
       "      <td>...</td>\n",
       "    </tr>\n",
       "    <tr>\n",
       "      <th>8995</th>\n",
       "      <td>1755882</td>\n",
       "      <td>70.000000</td>\n",
       "      <td>NaN</td>\n",
       "    </tr>\n",
       "    <tr>\n",
       "      <th>8996</th>\n",
       "      <td>1000299</td>\n",
       "      <td>354.330000</td>\n",
       "      <td>NaN</td>\n",
       "    </tr>\n",
       "    <tr>\n",
       "      <th>8997</th>\n",
       "      <td>336523</td>\n",
       "      <td>640.000000</td>\n",
       "      <td>NaN</td>\n",
       "    </tr>\n",
       "    <tr>\n",
       "      <th>8998</th>\n",
       "      <td>914229</td>\n",
       "      <td>649.606299</td>\n",
       "      <td>NaN</td>\n",
       "    </tr>\n",
       "    <tr>\n",
       "      <th>8999</th>\n",
       "      <td>914230</td>\n",
       "      <td>600.000000</td>\n",
       "      <td>NaN</td>\n",
       "    </tr>\n",
       "  </tbody>\n",
       "</table>\n",
       "<p>100 rows × 3 columns</p>\n",
       "</div>"
      ],
      "text/plain": [
       "      PRODUCT_ID  PRODUCT_TYPE_ID  PRODUCT_LENGTH\n",
       "8900     1082630       500.000000             NaN\n",
       "8901     1264861       196.850000             NaN\n",
       "8902      336631       900.000000             NaN\n",
       "8903     1264858        70.000000             NaN\n",
       "8904     1602924      3000.000000             NaN\n",
       "...          ...              ...             ...\n",
       "8995     1755882        70.000000             NaN\n",
       "8996     1000299       354.330000             NaN\n",
       "8997      336523       640.000000             NaN\n",
       "8998      914229       649.606299             NaN\n",
       "8999      914230       600.000000             NaN\n",
       "\n",
       "[100 rows x 3 columns]"
      ]
     },
     "execution_count": 286,
     "metadata": {},
     "output_type": "execute_result"
    }
   ],
   "source": [
    "t_df[8900:9000]"
   ]
  },
  {
   "cell_type": "code",
   "execution_count": 264,
   "id": "49da666c",
   "metadata": {},
   "outputs": [],
   "source": [
    "f=  t_df[['PRODUCT_LENGTH']]"
   ]
  },
  {
   "cell_type": "code",
   "execution_count": 265,
   "id": "c53b0071",
   "metadata": {},
   "outputs": [
    {
     "data": {
      "text/plain": [
       "PRODUCT_ID         0.0\n",
       "PRODUCT_TYPE_ID    0.0\n",
       "PRODUCT_LENGTH     0.0\n",
       "dtype: float64"
      ]
     },
     "execution_count": 265,
     "metadata": {},
     "output_type": "execute_result"
    }
   ],
   "source": [
    " t_df.isna().sum()"
   ]
  },
  {
   "cell_type": "code",
   "execution_count": null,
   "id": "07dd8c92",
   "metadata": {},
   "outputs": [],
   "source": []
  }
 ],
 "metadata": {
  "kernelspec": {
   "display_name": "Python 3 (ipykernel)",
   "language": "python",
   "name": "python3"
  },
  "language_info": {
   "codemirror_mode": {
    "name": "ipython",
    "version": 3
   },
   "file_extension": ".py",
   "mimetype": "text/x-python",
   "name": "python",
   "nbconvert_exporter": "python",
   "pygments_lexer": "ipython3",
   "version": "3.8.0"
  }
 },
 "nbformat": 4,
 "nbformat_minor": 5
}
