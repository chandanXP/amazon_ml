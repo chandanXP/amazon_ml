{
 "cells": [
  {
   "cell_type": "code",
   "execution_count": 1,
   "id": "10ace0d2",
   "metadata": {},
   "outputs": [],
   "source": [
    "import pandas as pd\n",
    "import matplotlib.pyplot as plt\n",
    "import seaborn as sns\n",
    "from sklearn.model_selection import train_test_split\n",
    "from sklearn.linear_model import LinearRegression\n",
    "from sklearn.linear_model import Lasso\n",
    "from sklearn import metrics\n",
    "import math\n",
    "import plotly_express as px\n",
    "import numpy as np\n",
    "import time\n"
   ]
  },
  {
   "cell_type": "code",
   "execution_count": 2,
   "id": "dbfbe6ca",
   "metadata": {},
   "outputs": [],
   "source": [
    "df = pd.read_csv(r\"C:\\amazon_ml\\dataset\\train.csv\")"
   ]
  },
  {
   "cell_type": "code",
   "execution_count": 3,
   "id": "adebeba1",
   "metadata": {},
   "outputs": [],
   "source": [
    "df  = df.sort_values('PRODUCT_TYPE_ID')"
   ]
  },
  {
   "cell_type": "code",
   "execution_count": 4,
   "id": "92c3c453",
   "metadata": {},
   "outputs": [],
   "source": [
    "res =df[['PRODUCT_TYPE_ID', 'PRODUCT_LENGTH']]"
   ]
  },
  {
   "cell_type": "code",
   "execution_count": 5,
   "id": "e5808dbd",
   "metadata": {},
   "outputs": [],
   "source": [
    "res = res.astype(int)\n"
   ]
  },
  {
   "cell_type": "code",
   "execution_count": 6,
   "id": "5310cae4",
   "metadata": {},
   "outputs": [],
   "source": [
    "df_slice = res[:1000]"
   ]
  },
  {
   "cell_type": "code",
   "execution_count": 7,
   "id": "445bddf6",
   "metadata": {},
   "outputs": [],
   "source": [
    "# sns.boxplot(df_slice.PRODUCT_LENGTH)"
   ]
  },
  {
   "cell_type": "code",
   "execution_count": 8,
   "id": "6959824c",
   "metadata": {},
   "outputs": [],
   "source": [
    "# checking negative values \n",
    "# (res < 0).any().any()"
   ]
  },
  {
   "cell_type": "code",
   "execution_count": 50,
   "id": "fa70ee0f",
   "metadata": {},
   "outputs": [],
   "source": [
    "# def outlier_limit(li_df):\n",
    "#     percentile25 = li_df['PRODUCT_LENGTH'].quantile(0.25)\n",
    "#     percentile75 = li_df['PRODUCT_LENGTH'].quantile(0.75)\n",
    "#     iqr = percentile75 - percentile25\n",
    "#     upper_limit = percentile75 + 1.5 * iqr\n",
    "#     lower_limit = percentile25 - 1.5 * iqr\n",
    "#     out = li_df[li_df['PRODUCT_LENGTH'] < upper_limit]\n",
    "#     out = li_df[li_df['PRODUCT_LENGTH'] > lower_limit]\n",
    "#     return out\n",
    "     \n",
    "\n",
    "def flatten(l):\n",
    "    return [item for sublist in l for item in sublist]"
   ]
  },
  {
   "cell_type": "code",
   "execution_count": 10,
   "id": "e0f7670f",
   "metadata": {},
   "outputs": [],
   "source": [
    "pa = df_slice['PRODUCT_LENGTH'].values.tolist()\n"
   ]
  },
  {
   "cell_type": "code",
   "execution_count": 11,
   "id": "9ee018d2",
   "metadata": {},
   "outputs": [],
   "source": [
    "# upper limit\n",
    "v = outlier_limit(pa)\n"
   ]
  },
  {
   "cell_type": "code",
   "execution_count": 12,
   "id": "17ce89f7",
   "metadata": {},
   "outputs": [],
   "source": [
    "# fres = df_slice[df_slice['PRODUCT_LENGTH']<= v[1]]\n",
    "fres =  df_slice[df_slice['PRODUCT_LENGTH'].between(v[0], v[1])]"
   ]
  },
  {
   "cell_type": "code",
   "execution_count": 13,
   "id": "c49021c6",
   "metadata": {},
   "outputs": [],
   "source": [
    "# we need to remove outliers which are more than upper limit. \n",
    "#we don't need to remove outiers as they are not negative."
   ]
  },
  {
   "cell_type": "code",
   "execution_count": 14,
   "id": "9be8af71",
   "metadata": {},
   "outputs": [
    {
     "data": {
      "text/html": [
       "<div>\n",
       "<style scoped>\n",
       "    .dataframe tbody tr th:only-of-type {\n",
       "        vertical-align: middle;\n",
       "    }\n",
       "\n",
       "    .dataframe tbody tr th {\n",
       "        vertical-align: top;\n",
       "    }\n",
       "\n",
       "    .dataframe thead th {\n",
       "        text-align: right;\n",
       "    }\n",
       "</style>\n",
       "<table border=\"1\" class=\"dataframe\">\n",
       "  <thead>\n",
       "    <tr style=\"text-align: right;\">\n",
       "      <th></th>\n",
       "      <th>PRODUCT_TYPE_ID</th>\n",
       "      <th>PRODUCT_LENGTH</th>\n",
       "    </tr>\n",
       "  </thead>\n",
       "  <tbody>\n",
       "    <tr>\n",
       "      <th>414249</th>\n",
       "      <td>0</td>\n",
       "      <td>433</td>\n",
       "    </tr>\n",
       "    <tr>\n",
       "      <th>1970362</th>\n",
       "      <td>0</td>\n",
       "      <td>1350</td>\n",
       "    </tr>\n",
       "    <tr>\n",
       "      <th>927226</th>\n",
       "      <td>0</td>\n",
       "      <td>500</td>\n",
       "    </tr>\n",
       "    <tr>\n",
       "      <th>1587085</th>\n",
       "      <td>0</td>\n",
       "      <td>637</td>\n",
       "    </tr>\n",
       "    <tr>\n",
       "      <th>927231</th>\n",
       "      <td>0</td>\n",
       "      <td>669</td>\n",
       "    </tr>\n",
       "    <tr>\n",
       "      <th>...</th>\n",
       "      <td>...</td>\n",
       "      <td>...</td>\n",
       "    </tr>\n",
       "    <tr>\n",
       "      <th>198201</th>\n",
       "      <td>0</td>\n",
       "      <td>850</td>\n",
       "    </tr>\n",
       "    <tr>\n",
       "      <th>530282</th>\n",
       "      <td>0</td>\n",
       "      <td>393</td>\n",
       "    </tr>\n",
       "    <tr>\n",
       "      <th>929127</th>\n",
       "      <td>0</td>\n",
       "      <td>468</td>\n",
       "    </tr>\n",
       "    <tr>\n",
       "      <th>1233032</th>\n",
       "      <td>0</td>\n",
       "      <td>590</td>\n",
       "    </tr>\n",
       "    <tr>\n",
       "      <th>198205</th>\n",
       "      <td>0</td>\n",
       "      <td>750</td>\n",
       "    </tr>\n",
       "  </tbody>\n",
       "</table>\n",
       "<p>939 rows × 2 columns</p>\n",
       "</div>"
      ],
      "text/plain": [
       "         PRODUCT_TYPE_ID  PRODUCT_LENGTH\n",
       "414249                 0             433\n",
       "1970362                0            1350\n",
       "927226                 0             500\n",
       "1587085                0             637\n",
       "927231                 0             669\n",
       "...                  ...             ...\n",
       "198201                 0             850\n",
       "530282                 0             393\n",
       "929127                 0             468\n",
       "1233032                0             590\n",
       "198205                 0             750\n",
       "\n",
       "[939 rows x 2 columns]"
      ]
     },
     "execution_count": 14,
     "metadata": {},
     "output_type": "execute_result"
    }
   ],
   "source": [
    "fres"
   ]
  },
  {
   "cell_type": "code",
   "execution_count": 15,
   "id": "ed86c7a9",
   "metadata": {},
   "outputs": [],
   "source": [
    "cat_df = df[['PRODUCT_TYPE_ID']]\n"
   ]
  },
  {
   "cell_type": "code",
   "execution_count": 16,
   "id": "4a4fd690",
   "metadata": {},
   "outputs": [],
   "source": [
    "cat_df =  cat_df.drop_duplicates(subset=['PRODUCT_TYPE_ID'])"
   ]
  },
  {
   "cell_type": "code",
   "execution_count": 17,
   "id": "67b84a82",
   "metadata": {},
   "outputs": [
    {
     "data": {
      "text/plain": [
       "(12907, 1)"
      ]
     },
     "execution_count": 17,
     "metadata": {},
     "output_type": "execute_result"
    }
   ],
   "source": [
    "cat_df.shape"
   ]
  },
  {
   "cell_type": "code",
   "execution_count": 18,
   "id": "8348f296",
   "metadata": {},
   "outputs": [],
   "source": [
    "cat_range = cat_df.values.tolist()"
   ]
  },
  {
   "cell_type": "code",
   "execution_count": 19,
   "id": "999d6e61",
   "metadata": {},
   "outputs": [
    {
     "data": {
      "text/plain": [
       "12907"
      ]
     },
     "execution_count": 19,
     "metadata": {},
     "output_type": "execute_result"
    }
   ],
   "source": [
    "len(cat_range)"
   ]
  },
  {
   "cell_type": "code",
   "execution_count": 20,
   "id": "86fd7faa",
   "metadata": {},
   "outputs": [
    {
     "data": {
      "text/plain": [
       "[0]"
      ]
     },
     "execution_count": 20,
     "metadata": {},
     "output_type": "execute_result"
    }
   ],
   "source": [
    "cat_range[0]"
   ]
  },
  {
   "cell_type": "code",
   "execution_count": 57,
   "id": "ceb8ea4f",
   "metadata": {},
   "outputs": [],
   "source": [
    "#2 Removing Outliers\n",
    "def remove_deviant(dfp):\n",
    "    percentile25 = dfp['PRODUCT_LENGTH'].quantile(0.25)\n",
    "    percentile75 = dfp['PRODUCT_LENGTH'].quantile(0.75)\n",
    "    iqr = percentile75 - percentile25\n",
    "    upper_limit = percentile75 + 1.5 * iqr\n",
    "    lower_limit = percentile25 - 1.5 * iqr\n",
    "    fres = dfp[dfp['PRODUCT_LENGTH'] < upper_limit]\n",
    "    fres = dfp[dfp['PRODUCT_LENGTH'] > lower_limit]\n",
    "#     print(fres)\n",
    "    return fres"
   ]
  },
  {
   "cell_type": "code",
   "execution_count": 22,
   "id": "e986ab75",
   "metadata": {},
   "outputs": [],
   "source": [
    "# loop\n",
    "# df of p_category\n",
    "# finding upper limit and lower limit\n",
    "# removing outliers which are out of the range of outer and lower limit\n",
    "# return and storing the df into a new dataframe \n",
    "\n",
    "# preparing model"
   ]
  },
  {
   "cell_type": "code",
   "execution_count": 23,
   "id": "9ea35726",
   "metadata": {},
   "outputs": [],
   "source": [
    "def fitting(d):\n",
    "    d = d.sort_values('PRODUCT_TYPE_ID')\n",
    "    d = d[['PRODUCT_ID', 'PRODUCT_TYPE_ID', 'PRODUCT_LENGTH']]\n",
    "#     d = d.astype(int)\n",
    "    return d\n",
    "\n",
    "\n",
    "\n",
    "def training(d, cat_range):\n",
    "    for p in cat_range:\n",
    "#         print(p, type(p))\n",
    "        df_cat = d[d['PRODUCT_TYPE_ID'] == p]\n",
    "        dt = remove_deviant(df_cat)\n",
    "        dt.to_csv('fit.csv', mode='a', header=False)\n",
    "        #remove deviant and return dataframe.\n",
    "        #return remove_deviant(df_cat)     \n",
    "    "
   ]
  },
  {
   "cell_type": "code",
   "execution_count": 54,
   "id": "48fef8a9",
   "metadata": {},
   "outputs": [],
   "source": [
    "new_df = pd.read_csv(r\"C:\\amazon_ml\\dataset\\train.csv\")"
   ]
  },
  {
   "cell_type": "code",
   "execution_count": 55,
   "id": "ec782dcf",
   "metadata": {},
   "outputs": [],
   "source": [
    "fit_df = fitting(new_df)\n"
   ]
  },
  {
   "cell_type": "code",
   "execution_count": 56,
   "id": "bbd4b731",
   "metadata": {},
   "outputs": [
    {
     "data": {
      "text/plain": [
       "PRODUCT_ID         0\n",
       "PRODUCT_TYPE_ID    0\n",
       "PRODUCT_LENGTH     0\n",
       "dtype: int64"
      ]
     },
     "execution_count": 56,
     "metadata": {},
     "output_type": "execute_result"
    }
   ],
   "source": [
    "fit_df.isna().sum()"
   ]
  },
  {
   "cell_type": "code",
   "execution_count": 58,
   "id": "89073f4b",
   "metadata": {},
   "outputs": [
    {
     "data": {
      "text/html": [
       "<div>\n",
       "<style scoped>\n",
       "    .dataframe tbody tr th:only-of-type {\n",
       "        vertical-align: middle;\n",
       "    }\n",
       "\n",
       "    .dataframe tbody tr th {\n",
       "        vertical-align: top;\n",
       "    }\n",
       "\n",
       "    .dataframe thead th {\n",
       "        text-align: right;\n",
       "    }\n",
       "</style>\n",
       "<table border=\"1\" class=\"dataframe\">\n",
       "  <thead>\n",
       "    <tr style=\"text-align: right;\">\n",
       "      <th></th>\n",
       "      <th>PRODUCT_ID</th>\n",
       "      <th>PRODUCT_TYPE_ID</th>\n",
       "      <th>PRODUCT_LENGTH</th>\n",
       "    </tr>\n",
       "  </thead>\n",
       "  <tbody>\n",
       "    <tr>\n",
       "      <th>414249</th>\n",
       "      <td>1420476</td>\n",
       "      <td>0</td>\n",
       "      <td>433.070866</td>\n",
       "    </tr>\n",
       "    <tr>\n",
       "      <th>1970362</th>\n",
       "      <td>1123216</td>\n",
       "      <td>0</td>\n",
       "      <td>1350.000000</td>\n",
       "    </tr>\n",
       "    <tr>\n",
       "      <th>927226</th>\n",
       "      <td>1165485</td>\n",
       "      <td>0</td>\n",
       "      <td>500.000000</td>\n",
       "    </tr>\n",
       "    <tr>\n",
       "      <th>1587085</th>\n",
       "      <td>1693001</td>\n",
       "      <td>0</td>\n",
       "      <td>637.000000</td>\n",
       "    </tr>\n",
       "    <tr>\n",
       "      <th>927231</th>\n",
       "      <td>1682427</td>\n",
       "      <td>0</td>\n",
       "      <td>669.000000</td>\n",
       "    </tr>\n",
       "    <tr>\n",
       "      <th>...</th>\n",
       "      <td>...</td>\n",
       "      <td>...</td>\n",
       "      <td>...</td>\n",
       "    </tr>\n",
       "    <tr>\n",
       "      <th>674515</th>\n",
       "      <td>1266499</td>\n",
       "      <td>13420</td>\n",
       "      <td>600.000000</td>\n",
       "    </tr>\n",
       "    <tr>\n",
       "      <th>2031521</th>\n",
       "      <td>1428163</td>\n",
       "      <td>13420</td>\n",
       "      <td>1500.000000</td>\n",
       "    </tr>\n",
       "    <tr>\n",
       "      <th>531931</th>\n",
       "      <td>1517804</td>\n",
       "      <td>13420</td>\n",
       "      <td>1550.000000</td>\n",
       "    </tr>\n",
       "    <tr>\n",
       "      <th>387179</th>\n",
       "      <td>1478641</td>\n",
       "      <td>13420</td>\n",
       "      <td>500.000000</td>\n",
       "    </tr>\n",
       "    <tr>\n",
       "      <th>1590257</th>\n",
       "      <td>1350541</td>\n",
       "      <td>13420</td>\n",
       "      <td>3594.000000</td>\n",
       "    </tr>\n",
       "  </tbody>\n",
       "</table>\n",
       "<p>2249698 rows × 3 columns</p>\n",
       "</div>"
      ],
      "text/plain": [
       "         PRODUCT_ID  PRODUCT_TYPE_ID  PRODUCT_LENGTH\n",
       "414249      1420476                0      433.070866\n",
       "1970362     1123216                0     1350.000000\n",
       "927226      1165485                0      500.000000\n",
       "1587085     1693001                0      637.000000\n",
       "927231      1682427                0      669.000000\n",
       "...             ...              ...             ...\n",
       "674515      1266499            13420      600.000000\n",
       "2031521     1428163            13420     1500.000000\n",
       "531931      1517804            13420     1550.000000\n",
       "387179      1478641            13420      500.000000\n",
       "1590257     1350541            13420     3594.000000\n",
       "\n",
       "[2249698 rows x 3 columns]"
      ]
     },
     "execution_count": 58,
     "metadata": {},
     "output_type": "execute_result"
    }
   ],
   "source": [
    "fit_df"
   ]
  },
  {
   "cell_type": "code",
   "execution_count": 59,
   "id": "f49d400b",
   "metadata": {},
   "outputs": [],
   "source": [
    "length_df = fit_df[['PRODUCT_TYPE_ID']]\n",
    "length_df =  length_df.drop_duplicates(subset=['PRODUCT_TYPE_ID'])\n",
    "type_range = length_df.values.tolist()\n",
    "type_range = flatten(type_range)"
   ]
  },
  {
   "cell_type": "code",
   "execution_count": 60,
   "id": "6ecc355a",
   "metadata": {},
   "outputs": [],
   "source": [
    "training(fit_df, type_range)"
   ]
  },
  {
   "cell_type": "code",
   "execution_count": 61,
   "id": "44cb511f",
   "metadata": {},
   "outputs": [],
   "source": [
    "t_df = pd.read_csv(r\"C:\\amazon_ml\\fit.csv\")"
   ]
  },
  {
   "cell_type": "code",
   "execution_count": 66,
   "id": "3be6d140",
   "metadata": {},
   "outputs": [
    {
     "data": {
      "text/plain": [
       "PRODUCT_ID         0\n",
       "PRODUCT_TYPE_ID    0\n",
       "PRODUCT_LENGTH     0\n",
       "dtype: int64"
      ]
     },
     "execution_count": 66,
     "metadata": {},
     "output_type": "execute_result"
    }
   ],
   "source": [
    "# t_df.isna().sum()\n",
    "t_df.isnull().sum()"
   ]
  },
  {
   "cell_type": "code",
   "execution_count": 67,
   "id": "e41873b0",
   "metadata": {},
   "outputs": [
    {
     "data": {
      "text/html": [
       "<div>\n",
       "<style scoped>\n",
       "    .dataframe tbody tr th:only-of-type {\n",
       "        vertical-align: middle;\n",
       "    }\n",
       "\n",
       "    .dataframe tbody tr th {\n",
       "        vertical-align: top;\n",
       "    }\n",
       "\n",
       "    .dataframe thead th {\n",
       "        text-align: right;\n",
       "    }\n",
       "</style>\n",
       "<table border=\"1\" class=\"dataframe\">\n",
       "  <thead>\n",
       "    <tr style=\"text-align: right;\">\n",
       "      <th></th>\n",
       "      <th>PRODUCT_ID</th>\n",
       "      <th>PRODUCT_TYPE_ID</th>\n",
       "      <th>PRODUCT_LENGTH</th>\n",
       "    </tr>\n",
       "  </thead>\n",
       "  <tbody>\n",
       "    <tr>\n",
       "      <th>414249</th>\n",
       "      <td>1420476</td>\n",
       "      <td>0</td>\n",
       "      <td>433.070866</td>\n",
       "    </tr>\n",
       "    <tr>\n",
       "      <th>1970362</th>\n",
       "      <td>1123216</td>\n",
       "      <td>0</td>\n",
       "      <td>1350.000000</td>\n",
       "    </tr>\n",
       "    <tr>\n",
       "      <th>927226</th>\n",
       "      <td>1165485</td>\n",
       "      <td>0</td>\n",
       "      <td>500.000000</td>\n",
       "    </tr>\n",
       "    <tr>\n",
       "      <th>1587085</th>\n",
       "      <td>1693001</td>\n",
       "      <td>0</td>\n",
       "      <td>637.000000</td>\n",
       "    </tr>\n",
       "    <tr>\n",
       "      <th>927231</th>\n",
       "      <td>1682427</td>\n",
       "      <td>0</td>\n",
       "      <td>669.000000</td>\n",
       "    </tr>\n",
       "  </tbody>\n",
       "</table>\n",
       "</div>"
      ],
      "text/plain": [
       "         PRODUCT_ID  PRODUCT_TYPE_ID  PRODUCT_LENGTH\n",
       "414249      1420476                0      433.070866\n",
       "1970362     1123216                0     1350.000000\n",
       "927226      1165485                0      500.000000\n",
       "1587085     1693001                0      637.000000\n",
       "927231      1682427                0      669.000000"
      ]
     },
     "execution_count": 67,
     "metadata": {},
     "output_type": "execute_result"
    }
   ],
   "source": [
    "t_df.head()"
   ]
  },
  {
   "cell_type": "code",
   "execution_count": null,
   "id": "9630b352",
   "metadata": {},
   "outputs": [],
   "source": []
  },
  {
   "cell_type": "code",
   "execution_count": null,
   "id": "49da666c",
   "metadata": {},
   "outputs": [],
   "source": []
  },
  {
   "cell_type": "code",
   "execution_count": null,
   "id": "c53b0071",
   "metadata": {},
   "outputs": [],
   "source": []
  },
  {
   "cell_type": "code",
   "execution_count": null,
   "id": "07dd8c92",
   "metadata": {},
   "outputs": [],
   "source": []
  },
  {
   "cell_type": "code",
   "execution_count": null,
   "id": "338664c4",
   "metadata": {},
   "outputs": [],
   "source": []
  },
  {
   "cell_type": "code",
   "execution_count": null,
   "id": "34aa08a1",
   "metadata": {},
   "outputs": [],
   "source": []
  },
  {
   "cell_type": "code",
   "execution_count": null,
   "id": "8760b6e2",
   "metadata": {},
   "outputs": [],
   "source": []
  },
  {
   "cell_type": "code",
   "execution_count": null,
   "id": "8b8089b5",
   "metadata": {},
   "outputs": [],
   "source": []
  },
  {
   "cell_type": "code",
   "execution_count": null,
   "id": "f4b3c823",
   "metadata": {},
   "outputs": [],
   "source": []
  }
 ],
 "metadata": {
  "kernelspec": {
   "display_name": "Python 3 (ipykernel)",
   "language": "python",
   "name": "python3"
  },
  "language_info": {
   "codemirror_mode": {
    "name": "ipython",
    "version": 3
   },
   "file_extension": ".py",
   "mimetype": "text/x-python",
   "name": "python",
   "nbconvert_exporter": "python",
   "pygments_lexer": "ipython3",
   "version": "3.8.0"
  }
 },
 "nbformat": 4,
 "nbformat_minor": 5
}
